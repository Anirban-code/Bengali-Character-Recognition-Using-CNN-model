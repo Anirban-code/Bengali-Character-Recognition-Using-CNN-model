{
  "nbformat": 4,
  "nbformat_minor": 0,
  "metadata": {
    "colab": {
      "name": "CNNTEST3.ipynb",
      "provenance": [],
      "collapsed_sections": [],
      "authorship_tag": "ABX9TyN0r0ZxAinhwFpe24x2Z5sD",
      "include_colab_link": true
    },
    "kernelspec": {
      "display_name": "Python 3",
      "name": "python3"
    },
    "language_info": {
      "name": "python"
    }
  },
  "cells": [
    {
      "cell_type": "markdown",
      "metadata": {
        "id": "view-in-github",
        "colab_type": "text"
      },
      "source": [
        "<a href=\"https://colab.research.google.com/github/Anirban-code/Bengali-Character-Recognition-Using-CNN-model/blob/main/CNNTEST3.ipynb\" target=\"_parent\"><img src=\"https://colab.research.google.com/assets/colab-badge.svg\" alt=\"Open In Colab\"/></a>"
      ]
    },
    {
      "cell_type": "markdown",
      "metadata": {
        "id": "buuxzVCfGCmS"
      },
      "source": [
        "# Unzip  Dataset"
      ]
    },
    {
      "cell_type": "code",
      "metadata": {
        "colab": {
          "base_uri": "https://localhost:8080/"
        },
        "id": "mltxUUbIb_lt",
        "outputId": "60f48954-b351-4671-ffa7-c3a6e44d732b"
      },
      "source": [
        "from zipfile import ZipFile\n",
        "file_name = \"HandWritten.zip\"\n",
        "\n",
        "with ZipFile(file_name, 'r') as zip:\n",
        "  zip.extractall()\n",
        "  print('Done')"
      ],
      "execution_count": null,
      "outputs": [
        {
          "output_type": "stream",
          "text": [
            "Done\n"
          ],
          "name": "stdout"
        }
      ]
    },
    {
      "cell_type": "markdown",
      "metadata": {
        "id": "MZPdOZClGRWo"
      },
      "source": [
        "#Importing the libraries"
      ]
    },
    {
      "cell_type": "code",
      "metadata": {
        "id": "nMTPAOwYuD94"
      },
      "source": [
        "import tensorflow as tf\n",
        "from keras.models import Sequential\n",
        "from keras.layers import Conv2D, MaxPooling2D, Flatten, Dense, Dropout\n",
        "from PIL import ImageFile\n",
        "import keras_preprocessing\n",
        "from keras_preprocessing import image\n",
        "from keras_preprocessing.image import ImageDataGenerator\n",
        "from sklearn.model_selection import train_test_split\n",
        "from tensorflow import keras\n",
        "from tensorflow.keras import regularizers\n",
        "from keras.layers import BatchNormalization,Activation,Concatenate"
      ],
      "execution_count": 1,
      "outputs": []
    },
    {
      "cell_type": "markdown",
      "metadata": {
        "id": "OMlQIyTiH1Fj"
      },
      "source": [
        "# Data Preprocessing"
      ]
    },
    {
      "cell_type": "code",
      "metadata": {
        "colab": {
          "base_uri": "https://localhost:8080/"
        },
        "id": "0kUV07YJt_yP",
        "outputId": "ad612af4-39c0-4db0-c674-f9d70dfb5e54"
      },
      "source": [
        "train_datagen=ImageDataGenerator(rescale=1./255, shear_range=.2, rotation_range=25)\n",
        "test_datagen=ImageDataGenerator(rescale=1./255)\n",
        "training_set=train_datagen.flow_from_directory('HandWritten/Training', target_size= (40, 40), \n",
        "                                               batch_size=32, class_mode='categorical')\n",
        "test_set=test_datagen.flow_from_directory('HandWritten/Validation', target_size= (40, 40), \n",
        "                                          batch_size=32, class_mode='categorical')\n"
      ],
      "execution_count": 2,
      "outputs": [
        {
          "output_type": "stream",
          "text": [
            "Found 18000 images belonging to 50 classes.\n",
            "Found 7000 images belonging to 50 classes.\n"
          ],
          "name": "stdout"
        }
      ]
    },
    {
      "cell_type": "markdown",
      "metadata": {
        "id": "-HZZdL0UH-jU"
      },
      "source": [
        "# Building the CNN"
      ]
    },
    {
      "cell_type": "code",
      "metadata": {
        "id": "GQjkDJsvt_9O"
      },
      "source": [
        "classifier=Sequential()\n",
        "classifier.add(Conv2D(filters=128, kernel_size= (3, 3), activation='relu', input_shape= (40, 40, 3)))\n",
        "classifier.add(MaxPooling2D(pool_size= (2, 2)))\n",
        "classifier.add(Dropout(.2))\n",
        "classifier.add(Conv2D(filters=64, kernel_size= (3, 3), activation='relu'))\n",
        "classifier.add(MaxPooling2D(pool_size= (2, 2)))\n",
        "classifier.add(Dropout(.2))\n",
        "classifier.add(Flatten())\n",
        "classifier.add(Dense(units=128, activation='relu'))\n",
        "classifier.add(Dropout(.2))\n",
        "classifier.add(Dense(units=50, activation='softmax'))\n",
        "classifier.compile(optimizer='adam', loss='categorical_crossentropy', metrics= ['accuracy'])"
      ],
      "execution_count": 3,
      "outputs": []
    },
    {
      "cell_type": "markdown",
      "metadata": {
        "id": "29gkryr3IEpV"
      },
      "source": [
        "Training the CNN on the Training set and evaluating it on the Test set"
      ]
    },
    {
      "cell_type": "code",
      "metadata": {
        "colab": {
          "base_uri": "https://localhost:8080/"
        },
        "id": "2E3-t3EJyJvO",
        "outputId": "0a8db857-1a82-474d-f624-5c30cc90e40f"
      },
      "source": [
        "history = classifier.fit(training_set,epochs=10,validation_data=test_set)"
      ],
      "execution_count": 4,
      "outputs": [
        {
          "output_type": "stream",
          "text": [
            "Epoch 1/10\n",
            "563/563 [==============================] - 150s 266ms/step - loss: 3.2214 - accuracy: 0.1744 - val_loss: 0.8533 - val_accuracy: 0.7384\n",
            "Epoch 2/10\n",
            "563/563 [==============================] - 151s 268ms/step - loss: 1.3167 - accuracy: 0.6094 - val_loss: 0.6187 - val_accuracy: 0.8070\n",
            "Epoch 3/10\n",
            "563/563 [==============================] - 150s 266ms/step - loss: 0.9933 - accuracy: 0.6998 - val_loss: 0.5395 - val_accuracy: 0.8301\n",
            "Epoch 4/10\n",
            "563/563 [==============================] - 147s 262ms/step - loss: 0.8392 - accuracy: 0.7421 - val_loss: 0.5257 - val_accuracy: 0.8336\n",
            "Epoch 5/10\n",
            "563/563 [==============================] - 151s 268ms/step - loss: 0.7609 - accuracy: 0.7660 - val_loss: 0.4636 - val_accuracy: 0.8583\n",
            "Epoch 6/10\n",
            "563/563 [==============================] - 150s 267ms/step - loss: 0.7069 - accuracy: 0.7816 - val_loss: 0.4484 - val_accuracy: 0.8516\n",
            "Epoch 7/10\n",
            "563/563 [==============================] - 154s 273ms/step - loss: 0.6739 - accuracy: 0.7945 - val_loss: 0.4605 - val_accuracy: 0.8524\n",
            "Epoch 8/10\n",
            "563/563 [==============================] - 163s 289ms/step - loss: 0.6044 - accuracy: 0.8095 - val_loss: 0.3898 - val_accuracy: 0.8737\n",
            "Epoch 9/10\n",
            "563/563 [==============================] - 160s 285ms/step - loss: 0.5817 - accuracy: 0.8157 - val_loss: 0.3952 - val_accuracy: 0.8734\n",
            "Epoch 10/10\n",
            "563/563 [==============================] - 154s 273ms/step - loss: 0.5641 - accuracy: 0.8211 - val_loss: 0.3806 - val_accuracy: 0.8789\n"
          ],
          "name": "stdout"
        }
      ]
    },
    {
      "cell_type": "code",
      "metadata": {
        "id": "bya2LH_h5Wnh"
      },
      "source": [
        "import matplotlib.pyplot as plt\n",
        "import numpy as np"
      ],
      "execution_count": 5,
      "outputs": []
    },
    {
      "cell_type": "markdown",
      "metadata": {
        "id": "rSuDi_0yIcQJ"
      },
      "source": [
        "Prediction Function"
      ]
    },
    {
      "cell_type": "code",
      "metadata": {
        "id": "jHTAI6wvuACb"
      },
      "source": [
        "def output(img):\n",
        "  test_img=image.img_to_array(img)\n",
        "  test_img=np.expand_dims(test_img,axis=0)\n",
        "  pre=classifier.predict((test_img))\n",
        "  res=np.argmax(pre,axis=1)\n",
        "  if res == 0:\n",
        "    print('prediction : অ')\n",
        "  elif res == 1:\n",
        "    print('prediction : আ')\n",
        "  elif res == 2:\n",
        "    print('prediction : ঋ')\n",
        "  elif res == 3:\n",
        "    print('prediction : ক')\n",
        "  elif res == 4:\n",
        "    print('prediction : খ')\n",
        "  elif res == 5:\n",
        "    print('prediction : গ')\n",
        "  elif res == 6:\n",
        "    print('prediction : ঘ')\n",
        "  elif res == 7:\n",
        "    print('prediction : ঙ')\n",
        "  elif res == 8:\n",
        "    print('prediction : চ')\n",
        "  elif res == 9:\n",
        "    print('prediction : ছ')\n",
        "  elif res == 10:\n",
        "    print('prediction : জ')\n",
        "  elif res == 11:\n",
        "    print('prediction : ঝ')\n",
        "  elif res == 12:\n",
        "    print('prediction : ই')\n",
        "  elif res == 13:\n",
        "    print('prediction : ঞ')\n",
        "  elif res == 14:\n",
        "    print('prediction : ট')\n",
        "  elif res == 15:\n",
        "    print('prediction : ঠ')\n",
        "  elif res == 16:\n",
        "    print('prediction : ড')\n",
        "  elif res == 17:\n",
        "    print('prediction : ঢ')\n",
        "  elif res == 18:\n",
        "    print('prediction : ণ')\n",
        "  elif res == 19:\n",
        "    print('prediction : ত')\n",
        "  elif res == 20:\n",
        "    print('prediction : থ')\n",
        "  elif res == 21:\n",
        "    print('prediction : দ')\n",
        "  elif res == 22:\n",
        "    print('prediction : ধ')\n",
        "  elif res == 23:\n",
        "    print('prediction : ঈ')\n",
        "  elif res == 24:\n",
        "    print('prediction : ন')\n",
        "  elif res == 25:\n",
        "    print('prediction : প')\n",
        "  elif res == 26:\n",
        "    print('prediction : ফ')\n",
        "  elif res == 27:\n",
        "    print('prediction : ব')\n",
        "  elif res == 28:\n",
        "    print('prediction : ভ')\n",
        "  elif res == 29:\n",
        "    print('prediction : ম')\n",
        "  elif res == 30:\n",
        "    print('prediction : য')\n",
        "  elif res == 31:\n",
        "    print('prediction : র')\n",
        "  elif res == 32:\n",
        "    print('prediction : ল')\n",
        "  elif res == 33:\n",
        "    print('prediction : শ')\n",
        "  elif res == 34:\n",
        "    print('prediction : উ')\n",
        "  elif res == 35:\n",
        "    print('prediction : ষ')\n",
        "  elif res == 36:\n",
        "    print('prediction : স')\n",
        "  elif res == 37:\n",
        "    print('prediction : হ')\n",
        "  elif res == 38:\n",
        "    print('prediction : ড়')\n",
        "  elif res == 39:\n",
        "    print('prediction : ঢ়')\n",
        "  elif res == 40:\n",
        "    print('prediction : য়')\n",
        "  elif res == 41:\n",
        "    print('prediction : ং')\n",
        "  elif res == 42:\n",
        "    print('prediction : ঃ')\n",
        "  elif res == 43:\n",
        "    print('prediction :  ঁ')\n",
        "  elif res == 44:\n",
        "    print('prediction : ৎ')\n",
        "  elif res == 45:\n",
        "    print('prediction : ঊ')\n",
        "  elif res == 46:\n",
        "    print('prediction : এ')\n",
        "  elif res == 47:\n",
        "    print('prediction : ঐ')\n",
        "  elif res == 48:\n",
        "    print('prediction : ও')\n",
        "  else:\n",
        "    print('prediction : ঔ')    \n",
        "\n"
      ],
      "execution_count": 6,
      "outputs": []
    },
    {
      "cell_type": "markdown",
      "metadata": {
        "id": "iyBFv0uPIqm3"
      },
      "source": [
        "# Predicted Results"
      ]
    },
    {
      "cell_type": "code",
      "metadata": {
        "colab": {
          "base_uri": "https://localhost:8080/"
        },
        "id": "VZarFJ3yrGNu",
        "outputId": "74fb7689-dbeb-4f28-98fe-3394d080e5f0"
      },
      "source": [
        "img = image.load_img('HandWritten/test/0/501.tif',target_size=(40,40,3))\n",
        "output(img)\n",
        "img = image.load_img('HandWritten/test/1/501.tif',target_size=(40,40,3))\n",
        "output(img)\n",
        "img = image.load_img('HandWritten/test/2/501.tif',target_size=(40,40,3))\n",
        "output(img)\n",
        "img = image.load_img('HandWritten/test/3/505.tif',target_size=(40,40,3))\n",
        "output(img)\n",
        "img = image.load_img('HandWritten/test/4/501.tif',target_size=(40,40,3))\n",
        "output(img)\n",
        "img = image.load_img('HandWritten/test/5/501.tif',target_size=(40,40,3))\n",
        "output(img)\n",
        "img = image.load_img('HandWritten/test/6/501.tif',target_size=(40,40,3))\n",
        "output(img)\n",
        "img = image.load_img('HandWritten/test/7/501.tif',target_size=(40,40,3))\n",
        "output(img) \n",
        "img = image.load_img('HandWritten/test/8/501.tif',target_size=(40,40,3))\n",
        "output(img)\n",
        "img = image.load_img('HandWritten/test/9/501.tif',target_size=(40,40,3))\n",
        "output(img)\n",
        "img = image.load_img('HandWritten/test/10/501.tif',target_size=(40,40,3))\n",
        "output(img)\n",
        "img = image.load_img('HandWritten/test/11/505.tif',target_size=(40,40,3))\n",
        "output(img) \n",
        "img = image.load_img('HandWritten/test/12/502.tif',target_size=(40,40,3))\n",
        "output(img)\n",
        "img = image.load_img('HandWritten/test/13/501.tif',target_size=(40,40,3))\n",
        "output(img)\n",
        "img = image.load_img('HandWritten/test/14/502.tif',target_size=(40,40,3))\n",
        "output(img)\n",
        "img = image.load_img('HandWritten/test/15/501.tif',target_size=(40,40,3))\n",
        "output(img) \n",
        "img = image.load_img('HandWritten/test/16/501.tif',target_size=(40,40,3))\n",
        "output(img)\n",
        "img = image.load_img('HandWritten/test/17/501.tif',target_size=(40,40,3))\n",
        "output(img)\n",
        "img = image.load_img('HandWritten/test/18/501.tif',target_size=(40,40,3))\n",
        "output(img)\n",
        "img = image.load_img('HandWritten/test/19/501.tif',target_size=(40,40,3))\n",
        "output(img) \n",
        "img = image.load_img('HandWritten/test/20/501.tif',target_size=(40,40,3))\n",
        "output(img)\n",
        "img = image.load_img('HandWritten/test/21/501.tif',target_size=(40,40,3))\n",
        "output(img)\n",
        "img = image.load_img('HandWritten/test/22/522.tif',target_size=(40,40,3))\n",
        "output(img)\n",
        "img = image.load_img('HandWritten/test/23/501.tif',target_size=(40,40,3))\n",
        "output(img) \n",
        "img = image.load_img('HandWritten/test/24/501.tif',target_size=(40,40,3))\n",
        "output(img)\n",
        "img = image.load_img('HandWritten/test/25/501.tif',target_size=(40,40,3))\n",
        "output(img)\n",
        "img = image.load_img('HandWritten/test/26/501.tif',target_size=(40,40,3))\n",
        "output(img)\n",
        "img = image.load_img('HandWritten/test/27/505.tif',target_size=(40,40,3))\n",
        "output(img) \n",
        "img = image.load_img('HandWritten/test/28/501.tif',target_size=(40,40,3))\n",
        "output(img)\n",
        "img = image.load_img('HandWritten/test/29/501.tif',target_size=(40,40,3))\n",
        "output(img)\n",
        "img = image.load_img('HandWritten/test/30/501.tif',target_size=(40,40,3))\n",
        "output(img)\n",
        "img = image.load_img('HandWritten/test/31/501.tif',target_size=(40,40,3))\n",
        "output(img) \n",
        "img = image.load_img('HandWritten/test/32/501.tif',target_size=(40,40,3))\n",
        "output(img)\n",
        "img = image.load_img('HandWritten/test/33/501.tif',target_size=(40,40,3))\n",
        "output(img)\n",
        "img = image.load_img('HandWritten/test/34/501.tif',target_size=(40,40,3))\n",
        "output(img) \n",
        "img = image.load_img('HandWritten/test/35/501.tif',target_size=(40,40,3))\n",
        "output(img)\n",
        "img = image.load_img('HandWritten/test/36/501.tif',target_size=(40,40,3))\n",
        "output(img)\n",
        "img = image.load_img('HandWritten/test/37/501.tif',target_size=(40,40,3))\n",
        "output(img)\n",
        "img = image.load_img('HandWritten/test/38/505.tif',target_size=(40,40,3))\n",
        "output(img) \n",
        "img = image.load_img('HandWritten/test/39/501.tif',target_size=(40,40,3))\n",
        "output(img)\n",
        "img = image.load_img('HandWritten/test/40/521.tif',target_size=(40,40,3))\n",
        "output(img)\n",
        "img = image.load_img('HandWritten/test/41/504.tif',target_size=(40,40,3))\n",
        "output(img)\n",
        "img = image.load_img('HandWritten/test/42/505.tif',target_size=(40,40,3))\n",
        "output(img) \n",
        "img = image.load_img('HandWritten/test/43/501.tif',target_size=(40,40,3))\n",
        "output(img)\n",
        "img = image.load_img('HandWritten/test/44/501.tif',target_size=(40,40,3))\n",
        "output(img)\n",
        "img = image.load_img('HandWritten/test/45/501.tif',target_size=(40,40,3))\n",
        "output(img)\n",
        "img = image.load_img('HandWritten/test/46/501.tif',target_size=(40,40,3))\n",
        "output(img) \n",
        "img = image.load_img('HandWritten/test/47/501.tif',target_size=(40,40,3))\n",
        "output(img)\n",
        "img = image.load_img('HandWritten/test/48/501.tif',target_size=(40,40,3))\n",
        "output(img)\n",
        "img = image.load_img('HandWritten/test/49/501.tif',target_size=(40,40,3))\n",
        "output(img)"
      ],
      "execution_count": 12,
      "outputs": [
        {
          "output_type": "stream",
          "text": [
            "prediction : অ\n",
            "prediction : আ\n",
            "prediction : ই\n",
            "prediction : ঈ\n",
            "prediction : উ\n",
            "prediction : ঊ\n",
            "prediction : এ\n",
            "prediction : ঐ\n",
            "prediction : ও\n",
            "prediction : ঔ\n",
            "prediction : ঋ\n",
            "prediction : ক\n",
            "prediction : খ\n",
            "prediction : গ\n",
            "prediction : ঘ\n",
            "prediction : ঙ\n",
            "prediction : চ\n",
            "prediction : ছ\n",
            "prediction : জ\n",
            "prediction : ঝ\n",
            "prediction : ঞ\n",
            "prediction : ট\n",
            "prediction : ঠ\n",
            "prediction : ড\n",
            "prediction : ঢ\n",
            "prediction : ণ\n",
            "prediction : ত\n",
            "prediction : থ\n",
            "prediction : দ\n",
            "prediction : ধ\n",
            "prediction : ন\n",
            "prediction : প\n",
            "prediction : ফ\n",
            "prediction : ব\n",
            "prediction : ভ\n",
            "prediction : ম\n",
            "prediction : য\n",
            "prediction : র\n",
            "prediction : ল\n",
            "prediction : শ\n",
            "prediction : ষ\n",
            "prediction : স\n",
            "prediction : হ\n",
            "prediction : ড়\n",
            "prediction : ঢ়\n",
            "prediction : য়\n",
            "prediction : ং\n",
            "prediction : ঃ\n",
            "prediction :  ঁ\n",
            "prediction : ৎ\n"
          ],
          "name": "stdout"
        }
      ]
    },
    {
      "cell_type": "code",
      "metadata": {
        "colab": {
          "base_uri": "https://localhost:8080/",
          "height": 573
        },
        "id": "VuH7564qMP6x",
        "outputId": "676e839b-c5ab-498e-a89a-f94809fc3624"
      },
      "source": [
        "import keras\n",
        "plt.plot(history.history['accuracy'])\n",
        "plt.plot(history.history['val_accuracy'])\n",
        "plt.title('model accuracy')\n",
        "plt.ylabel('accuracy')\n",
        "plt.xlabel('epoch')\n",
        "plt.legend(['train', 'val'], loc='upper left')\n",
        "plt.show()\n",
        "\n",
        "\n",
        "plt.plot(history.history['loss'])\n",
        "plt.plot(history.history['val_loss'])\n",
        "plt.title('model loss')\n",
        "plt.ylabel('loss')\n",
        "plt.xlabel('epoch')\n",
        "plt.legend(['train', 'val'], loc='upper left')\n",
        "plt.show()"
      ],
      "execution_count": 15,
      "outputs": [
        {
          "output_type": "display_data",
          "data": {
            "image/png": "[encoded data removed]",
            "text/plain": [
              "<Figure size 432x288 with 1 Axes>"
            ]
          },
          "metadata": {
            "tags": [],
            "needs_background": "light"
          }
        },
        {
          "output_type": "display_data",
          "data": {
            "image/png": "[encoded data removed]",
            "text/plain": [
              "<Figure size 432x288 with 1 Axes>"
            ]
          },
          "metadata": {
            "tags": [],
            "needs_background": "light"
          }
        }
      ]
    },
    {
      "cell_type": "markdown",
      "metadata": {
        "id": "qGBcnFGWJBV1"
      },
      "source": [
        "# Random Test"
      ]
    },
    {
      "cell_type": "code",
      "metadata": {
        "colab": {
          "base_uri": "https://localhost:8080/",
          "height": 304
        },
        "id": "RjtKU04lLy4X",
        "outputId": "7444ae5a-6633-487d-ad76-80949420f239"
      },
      "source": [
        "img = image.load_img('images7.png',target_size=(40,40,3))\n",
        "plt.imshow(img)\n",
        "output(img) \n",
        "print(\"Loaded Image\")"
      ],
      "execution_count": 24,
      "outputs": [
        {
          "output_type": "stream",
          "text": [
            "prediction : ঈ\n",
            "Loaded Image\n"
          ],
          "name": "stdout"
        },
        {
          "output_type": "display_data",
          "data": {
            "image/png": "[encoded data removed]",
            "text/plain": [
              "<Figure size 432x288 with 1 Axes>"
            ]
          },
          "metadata": {
            "tags": [],
            "needs_background": "light"
          }
        }
      ]
    }
  ]
}